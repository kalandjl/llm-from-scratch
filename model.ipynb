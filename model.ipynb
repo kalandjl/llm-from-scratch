{
 "cells": [
  {
   "cell_type": "code",
   "execution_count": 4,
   "id": "69190936-2cb0-43d8-ade5-62beaaa0eacb",
   "metadata": {},
   "outputs": [],
   "source": [
    "# Dataset: source code for 'requests' python libraray\n",
    "dataset = open(\"data/requests.txt\").read()"
   ]
  },
  {
   "cell_type": "code",
   "execution_count": 9,
   "id": "6c746ba6-353b-47cd-b79f-fa3edf0d3a9e",
   "metadata": {},
   "outputs": [],
   "source": [
    "# sorted list of all unique characters in dataset\n",
    "chars = sorted(list(set(dataset)))\n",
    "vocab_size = len(chars)\n",
    "\n",
    "# string-to-integer array\n",
    "stoi = { char:i for i,char in enumerate(chars) }\n",
    "\n",
    "# integer-to-string array\n",
    "itos = { i:char for i,char in enumerate(chars) }\n",
    "\n",
    "# lookup functions for stoi and itos arrays\n",
    "encode = lambda s: [stoi[c] for c in s]\n",
    "decode = lambda l: ''.join([itos[i] for i in l])"
   ]
  },
  {
   "cell_type": "code",
   "execution_count": 17,
   "id": "f140ef1f-7dec-441a-b7fe-eb4448291514",
   "metadata": {},
   "outputs": [],
   "source": [
    "import numpy as np\n",
    "\n",
    "# Each character has weights of a 32 long vector, defined by n_embed (embedding dimension)\n",
    "n_embd = 32\n",
    "\n",
    "# Initialize embedding & unembedding matrix\n",
    "embedding_matrix = np.random.randn(vocab_size, n_embd)\n",
    "unembedding_matrix = np.random.randn(n_embd, vocab_size)\n",
    "\n"
   ]
  },
  {
   "cell_type": "code",
   "execution_count": 60,
   "id": "2b31441d-4b8c-4ce4-ac79-673775407b45",
   "metadata": {},
   "outputs": [],
   "source": [
    "# Standard expansion factor of four\n",
    "ffwd_expansion_factor = 4\n",
    "\n",
    "# Initialize hidden layer and output layer\n",
    "# Factor by 0.1 to reduce the randomness\n",
    "W1 = np.random.randn(n_embd, n_embd * ffwd_expansion_factor) * 0.1\n",
    "W2 = np.random.randn(n_embd * ffwd_expansion_factor, n_embd) * 0.1\n",
    " "
   ]
  },
  {
   "cell_type": "code",
   "execution_count": 61,
   "id": "6ce4f567-ea96-4ec9-9349-6fdcac190fd2",
   "metadata": {},
   "outputs": [],
   "source": [
    "class Model:\n",
    "    def __init__(self,embedding_matrix, unembedding_matrix, W1, W2):\n",
    "        self.embedding_matrix = embedding_matrix\n",
    "        self.unembedding_matrix = unembedding_matrix\n",
    "        self.W1 = W1\n",
    "        self.W2 = W2\n",
    "\n",
    "    def forward(self, x): \n",
    "\n",
    "        embd_x = self.embedding_matrix[x]\n",
    "\n",
    "        # Embedded data passes through the hidden layer of the FFN\n",
    "        hidden = embd_x @ W1\n",
    "\n",
    "        hidden_activated = np.maximum(0, hidden)\n",
    "\n",
    "        output = hidden_activated @ W2 \n",
    "\n"
   ]
  },
  {
   "cell_type": "code",
   "execution_count": 62,
   "id": "90356084-272e-4058-b6c5-b537cf7f8158",
   "metadata": {},
   "outputs": [
    {
     "name": "stderr",
     "output_type": "stream",
     "text": [
      "/var/folders/8k/dg_kyxnn5wn4nbhpwfq40c2r0000gn/T/ipykernel_2199/2768967190.py:13: RuntimeWarning: divide by zero encountered in matmul\n",
      "  hidden = embd_x @ W1\n",
      "/var/folders/8k/dg_kyxnn5wn4nbhpwfq40c2r0000gn/T/ipykernel_2199/2768967190.py:13: RuntimeWarning: overflow encountered in matmul\n",
      "  hidden = embd_x @ W1\n",
      "/var/folders/8k/dg_kyxnn5wn4nbhpwfq40c2r0000gn/T/ipykernel_2199/2768967190.py:13: RuntimeWarning: invalid value encountered in matmul\n",
      "  hidden = embd_x @ W1\n",
      "/var/folders/8k/dg_kyxnn5wn4nbhpwfq40c2r0000gn/T/ipykernel_2199/2768967190.py:17: RuntimeWarning: divide by zero encountered in matmul\n",
      "  output = hidden_activated @ W2\n",
      "/var/folders/8k/dg_kyxnn5wn4nbhpwfq40c2r0000gn/T/ipykernel_2199/2768967190.py:17: RuntimeWarning: overflow encountered in matmul\n",
      "  output = hidden_activated @ W2\n",
      "/var/folders/8k/dg_kyxnn5wn4nbhpwfq40c2r0000gn/T/ipykernel_2199/2768967190.py:17: RuntimeWarning: invalid value encountered in matmul\n",
      "  output = hidden_activated @ W2\n"
     ]
    }
   ],
   "source": [
    "model = Model(embedding_matrix, unembedding_matrix, W1, W2)\n",
    "model.forward(stoi['d'])"
   ]
  }
 ],
 "metadata": {
  "kernelspec": {
   "display_name": "IPython",
   "language": "python",
   "name": "ipython_env"
  },
  "language_info": {
   "codemirror_mode": {
    "name": "ipython",
    "version": 3
   },
   "file_extension": ".py",
   "mimetype": "text/x-python",
   "name": "python",
   "nbconvert_exporter": "python",
   "pygments_lexer": "ipython3",
   "version": "3.13.3"
  }
 },
 "nbformat": 4,
 "nbformat_minor": 5
}
