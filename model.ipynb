{
 "cells": [
  {
   "cell_type": "code",
   "execution_count": 4,
   "id": "69190936-2cb0-43d8-ade5-62beaaa0eacb",
   "metadata": {},
   "outputs": [],
   "source": [
    "# Dataset: source code for 'requests' python libraray\n",
    "dataset = open(\"data/requests.txt\").read()"
   ]
  },
  {
   "cell_type": "code",
   "execution_count": 9,
   "id": "6c746ba6-353b-47cd-b79f-fa3edf0d3a9e",
   "metadata": {},
   "outputs": [],
   "source": [
    "# sorted list of all unique characters in dataset\n",
    "chars = sorted(list(set(dataset)))\n",
    "vocab_size = len(chars)\n",
    "\n",
    "# string-to-integer array\n",
    "stoi = { char:i for i,char in enumerate(chars) }\n",
    "\n",
    "# integer-to-string array\n",
    "itos = { i:char for i,char in enumerate(chars) }\n",
    "\n",
    "# lookup functions for stoi and itos arrays\n",
    "encode = lambda s: [stoi[c] for c in s]\n",
    "decode = lambda l: ''.join([itos[i] for i in l])"
   ]
  },
  {
   "cell_type": "code",
   "execution_count": 17,
   "id": "f140ef1f-7dec-441a-b7fe-eb4448291514",
   "metadata": {},
   "outputs": [],
   "source": [
    "import numpy as np\n",
    "\n",
    "# Each character has weights of a 32 long vector, defined by n_embed (embedding dimension)\n",
    "n_embd = 32\n",
    "\n",
    "# Initialize embedding & unembedding matrix\n",
    "embedding_matrix = np.random.randn(vocab_size, n_embd)\n",
    "unembedding_matrix = np.random.randn(n_embd, vocab_size)\n",
    "\n"
   ]
  },
  {
   "cell_type": "code",
   "execution_count": 66,
   "id": "2b31441d-4b8c-4ce4-ac79-673775407b45",
   "metadata": {},
   "outputs": [],
   "source": [
    "# Standard expansion factor of four\n",
    "ffwd_expansion_factor = 4\n",
    "\n",
    "# Initialize hidden layer and output layer\n",
    "# Use Kaiming init to intelligently scale the layer's random weights\n",
    "W1 = np.random.randn(n_embd, n_embd * ffwd_expansion_factor) * np.sqrt(2.0 / n_embd)\n",
    "W2 = np.random.randn(n_embd * ffwd_expansion_factor, n_embd) * np.sqrt(2.0 / n_embd)\n",
    " "
   ]
  },
  {
   "cell_type": "code",
   "execution_count": 93,
   "id": "6ce4f567-ea96-4ec9-9349-6fdcac190fd2",
   "metadata": {},
   "outputs": [],
   "source": [
    "class Model:\n",
    "    def __init__(self,embedding_matrix, unembedding_matrix, W1, W2):\n",
    "        self.embedding_matrix = embedding_matrix\n",
    "        self.unembedding_matrix = unembedding_matrix\n",
    "        self.W1 = W1\n",
    "        self.W2 = W2\n",
    "\n",
    "    def forward(self, x): \n",
    "\n",
    "        embd_x = self.embedding_matrix[x]\n",
    "\n",
    "        # Embedded data passes through the hidden layer of the FFN\n",
    "        hidden = embd_x @ self.W1\n",
    "\n",
    "        hidden_activated = np.maximum(0, hidden)\n",
    "\n",
    "        proccessed_vector = hidden_activated @ self.W2 \n",
    "\n",
    "        logits = proccessed_vector @ self.unembedding_matrix\n",
    "        \n",
    "        return logits\n",
    "\n",
    "    def pred (self, x):\n",
    "\n",
    "        proccessed_vector = self.forward(x)\n",
    "\n",
    "        return proccessed_vector\n",
    "\n",
    "        \n",
    "\n"
   ]
  },
  {
   "cell_type": "code",
   "execution_count": 94,
   "id": "90356084-272e-4058-b6c5-b537cf7f8158",
   "metadata": {},
   "outputs": [
    {
     "name": "stderr",
     "output_type": "stream",
     "text": [
      "/var/folders/8k/dg_kyxnn5wn4nbhpwfq40c2r0000gn/T/ipykernel_2199/1189407056.py:13: RuntimeWarning: divide by zero encountered in matmul\n",
      "  hidden = embd_x @ self.W1\n",
      "/var/folders/8k/dg_kyxnn5wn4nbhpwfq40c2r0000gn/T/ipykernel_2199/1189407056.py:13: RuntimeWarning: overflow encountered in matmul\n",
      "  hidden = embd_x @ self.W1\n",
      "/var/folders/8k/dg_kyxnn5wn4nbhpwfq40c2r0000gn/T/ipykernel_2199/1189407056.py:13: RuntimeWarning: invalid value encountered in matmul\n",
      "  hidden = embd_x @ self.W1\n",
      "/var/folders/8k/dg_kyxnn5wn4nbhpwfq40c2r0000gn/T/ipykernel_2199/1189407056.py:17: RuntimeWarning: divide by zero encountered in matmul\n",
      "  proccessed_vector = hidden_activated @ self.W2\n",
      "/var/folders/8k/dg_kyxnn5wn4nbhpwfq40c2r0000gn/T/ipykernel_2199/1189407056.py:17: RuntimeWarning: overflow encountered in matmul\n",
      "  proccessed_vector = hidden_activated @ self.W2\n",
      "/var/folders/8k/dg_kyxnn5wn4nbhpwfq40c2r0000gn/T/ipykernel_2199/1189407056.py:17: RuntimeWarning: invalid value encountered in matmul\n",
      "  proccessed_vector = hidden_activated @ self.W2\n",
      "/var/folders/8k/dg_kyxnn5wn4nbhpwfq40c2r0000gn/T/ipykernel_2199/1189407056.py:19: RuntimeWarning: divide by zero encountered in matmul\n",
      "  logits = proccessed_vector @ self.unembedding_matrix\n",
      "/var/folders/8k/dg_kyxnn5wn4nbhpwfq40c2r0000gn/T/ipykernel_2199/1189407056.py:19: RuntimeWarning: overflow encountered in matmul\n",
      "  logits = proccessed_vector @ self.unembedding_matrix\n",
      "/var/folders/8k/dg_kyxnn5wn4nbhpwfq40c2r0000gn/T/ipykernel_2199/1189407056.py:19: RuntimeWarning: invalid value encountered in matmul\n",
      "  logits = proccessed_vector @ self.unembedding_matrix\n"
     ]
    },
    {
     "data": {
      "text/plain": [
       "array([ 0.73062285,  1.10011701, -0.12606915, -0.85849044,  0.91190659,\n",
       "       -0.66043146, -0.82199384, -0.01536151,  1.28500201, -0.42002845,\n",
       "        1.01564269,  0.67817273, -0.24529129,  0.58287894, -0.22290885,\n",
       "       -0.75212727, -0.36726484, -0.9252138 , -0.51446843,  0.66572106,\n",
       "        0.04175425,  0.04389695,  0.81206117,  1.02282331,  0.19116105,\n",
       "        0.10246925,  0.24761975,  0.41141313,  0.23633099,  0.6674031 ,\n",
       "        1.02287183,  0.15217197, -0.19599873,  0.29413793, -0.30638647,\n",
       "        0.45353569,  0.05370176,  0.63002257, -0.05250522, -0.55899878,\n",
       "        0.69535115, -0.80067428,  0.78193447, -0.94572857,  0.00970324,\n",
       "       -0.66072232, -0.26943069,  0.93285658, -0.04029292, -0.16646744,\n",
       "        0.77147185,  0.43429134, -1.02206684,  0.0926461 ,  1.1505517 ,\n",
       "       -0.68922928,  0.02369945, -0.76924902,  0.15255796, -0.16949868,\n",
       "        0.15602545,  0.19123431,  0.67978545, -0.53492723, -0.01342052,\n",
       "       -0.75339008, -1.16611908, -0.49157878,  0.10241605,  0.55681682,\n",
       "        0.89623493,  0.26023748,  0.93643656,  0.5964271 ,  0.59305663,\n",
       "        0.22764098,  0.47185137,  0.19504272,  0.34365743,  0.24060921,\n",
       "        0.08463834,  0.69104078, -0.02301666, -0.30422948, -0.02645177,\n",
       "        0.11679816, -0.24110533, -0.27510414,  0.48518829,  0.89830084,\n",
       "        0.22755051, -0.00624631, -0.26102549,  1.51987047,  0.73349391,\n",
       "       -0.79025754, -0.66206739,  0.56582281, -0.26498939,  0.97956314,\n",
       "       -0.17881096,  0.38933029,  0.50711191,  0.29596298, -0.37807926,\n",
       "        0.54375197,  0.18788406, -1.392151  ,  0.21264637,  0.55944638,\n",
       "       -0.26502456,  0.93220948,  0.70014695, -0.17292498,  0.6608327 ,\n",
       "       -0.7596745 ,  0.89305404, -0.23557284,  1.1118084 ,  1.15854875,\n",
       "       -0.07147678,  0.379152  ,  0.17153955,  0.22045747,  1.7253462 ,\n",
       "        1.47575845, -0.22610685, -0.19597654, -1.86470424, -0.17515266,\n",
       "        0.58028425])"
      ]
     },
     "execution_count": 94,
     "metadata": {},
     "output_type": "execute_result"
    }
   ],
   "source": [
    "model = Model(embedding_matrix, unembedding_matrix, W1, W2)\n",
    "model.pred(stoi['d'])"
   ]
  }
 ],
 "metadata": {
  "kernelspec": {
   "display_name": "IPython",
   "language": "python",
   "name": "ipython_env"
  },
  "language_info": {
   "codemirror_mode": {
    "name": "ipython",
    "version": 3
   },
   "file_extension": ".py",
   "mimetype": "text/x-python",
   "name": "python",
   "nbconvert_exporter": "python",
   "pygments_lexer": "ipython3",
   "version": "3.13.3"
  }
 },
 "nbformat": 4,
 "nbformat_minor": 5
}
