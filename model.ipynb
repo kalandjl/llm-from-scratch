{
 "cells": [
  {
   "cell_type": "code",
   "execution_count": 4,
   "id": "69190936-2cb0-43d8-ade5-62beaaa0eacb",
   "metadata": {},
   "outputs": [],
   "source": [
    "# Dataset: source code for 'requests' python libraray\n",
    "dataset = open(\"data/requests.txt\").read()"
   ]
  },
  {
   "cell_type": "code",
   "execution_count": 101,
   "id": "6c746ba6-353b-47cd-b79f-fa3edf0d3a9e",
   "metadata": {},
   "outputs": [],
   "source": [
    "# sorted list of all unique characters in dataset\n",
    "chars = sorted(list(set(dataset)))\n",
    "vocab_size = len(chars)\n",
    "\n",
    "# string-to-integer array\n",
    "stoi = { char:i for i,char in enumerate(chars) }\n",
    "\n",
    "# integer-to-string array\n",
    "itos = { i:char for i,char in enumerate(chars) }\n",
    "\n",
    "# lookup functions for stoi and itos arrays\n",
    "encode = lambda s: [stoi[c] for c in s]\n",
    "decode = lambda l: ''.join([itos[i] for i in l])"
   ]
  },
  {
   "cell_type": "code",
   "execution_count": 17,
   "id": "f140ef1f-7dec-441a-b7fe-eb4448291514",
   "metadata": {},
   "outputs": [],
   "source": [
    "import numpy as np\n",
    "\n",
    "# Each character has weights of a 32 long vector, defined by n_embed (embedding dimension)\n",
    "n_embd = 32\n",
    "\n",
    "# Initialize embedding & unembedding matrix\n",
    "embedding_matrix = np.random.randn(vocab_size, n_embd)\n",
    "unembedding_matrix = np.random.randn(n_embd, vocab_size)\n",
    "\n"
   ]
  },
  {
   "cell_type": "code",
   "execution_count": 66,
   "id": "2b31441d-4b8c-4ce4-ac79-673775407b45",
   "metadata": {},
   "outputs": [],
   "source": [
    "# Standard expansion factor of four\n",
    "ffwd_expansion_factor = 4\n",
    "\n",
    "# Initialize hidden layer and output layer\n",
    "# Use Kaiming init to intelligently scale the layer's random weights\n",
    "W1 = np.random.randn(n_embd, n_embd * ffwd_expansion_factor) * np.sqrt(2.0 / n_embd)\n",
    "W2 = np.random.randn(n_embd * ffwd_expansion_factor, n_embd) * np.sqrt(2.0 / n_embd)\n",
    " "
   ]
  },
  {
   "cell_type": "code",
   "execution_count": 104,
   "id": "6ce4f567-ea96-4ec9-9349-6fdcac190fd2",
   "metadata": {},
   "outputs": [],
   "source": [
    "class Model:\n",
    "    def __init__(self,embedding_matrix, unembedding_matrix, W1, W2):\n",
    "        self.embedding_matrix = embedding_matrix\n",
    "        self.unembedding_matrix = unembedding_matrix\n",
    "        self.W1 = W1\n",
    "        self.W2 = W2\n",
    "\n",
    "    def forward(self, x): \n",
    "\n",
    "        embd_x = self.embedding_matrix[x]\n",
    "\n",
    "        # Embedded data passes through the hidden layer of the FFN\n",
    "        hidden = embd_x @ self.W1\n",
    "\n",
    "        hidden_activated = np.maximum(0, hidden)\n",
    "\n",
    "        proccessed_vector = hidden_activated @ self.W2 \n",
    "\n",
    "        logits = proccessed_vector @ self.unembedding_matrix\n",
    "        \n",
    "        return logits\n",
    "\n",
    "    def pred (self, x):\n",
    "\n",
    "        logits = self.forward(x)\n",
    "\n",
    "        ## Apply softmax function to logits\n",
    "        stable_logits = logits - np.max(logits) # This ensures the largest logit is 0\n",
    "        raw_preds = np.exp(stable_logits) / np.sum(np.exp(stable_logits))        \n",
    "        preds = {}\n",
    "\n",
    "        for idx, raw_pred in enumerate(raw_preds):\n",
    "\n",
    "            preds[itos[idx]] = raw_pred\n",
    "        \n",
    "        return preds\n",
    "\n",
    "        \n",
    "\n"
   ]
  },
  {
   "cell_type": "raw",
   "id": "07a8fc82-b5e3-4579-bfd6-8edcc7fc168d",
   "metadata": {},
   "source": [
    "model = Model(embedding_matrix, unembedding_matrix, W1, W2)\n",
    "model.pred(stoi['d'])\n"
   ]
  }
 ],
 "metadata": {
  "kernelspec": {
   "display_name": "IPython",
   "language": "python",
   "name": "ipython_env"
  },
  "language_info": {
   "codemirror_mode": {
    "name": "ipython",
    "version": 3
   },
   "file_extension": ".py",
   "mimetype": "text/x-python",
   "name": "python",
   "nbconvert_exporter": "python",
   "pygments_lexer": "ipython3",
   "version": "3.13.3"
  }
 },
 "nbformat": 4,
 "nbformat_minor": 5
}
