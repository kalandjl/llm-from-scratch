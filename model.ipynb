{
 "cells": [
  {
   "cell_type": "code",
   "execution_count": 4,
   "id": "69190936-2cb0-43d8-ade5-62beaaa0eacb",
   "metadata": {},
   "outputs": [],
   "source": [
    "# Dataset: source code for 'requests' python libraray\n",
    "dataset = open(\"data/requests.txt\").read()"
   ]
  },
  {
   "cell_type": "code",
   "execution_count": 9,
   "id": "6c746ba6-353b-47cd-b79f-fa3edf0d3a9e",
   "metadata": {},
   "outputs": [],
   "source": [
    "# sorted list of all unique characters in dataset\n",
    "chars = sorted(list(set(dataset)))\n",
    "vocab_size = len(chars)\n",
    "\n",
    "# string-to-integer array\n",
    "stoi = { char:i for i,char in enumerate(chars) }\n",
    "\n",
    "# integer-to-string array\n",
    "itos = { i:char for i,char in enumerate(chars) }\n",
    "\n",
    "# lookup functions for stoi and itos arrays\n",
    "encode = lambda s: [stoi[c] for c in s]\n",
    "decode = lambda l: ''.join([itos[i] for i in l])"
   ]
  },
  {
   "cell_type": "code",
   "execution_count": 17,
   "id": "f140ef1f-7dec-441a-b7fe-eb4448291514",
   "metadata": {},
   "outputs": [],
   "source": [
    "import numpy as np\n",
    "\n",
    "# Each character has weights of a 32 long vector, defined by n_embed (embedding dimension)\n",
    "n_embd = 32\n",
    "\n",
    "# Initialize embedding & unembedding matrix\n",
    "embedding_matrix = np.random.randn(vocab_size, n_embd)\n",
    "unembedding_matrix = np.random.randn(n_embd, vocab_size)\n",
    "\n"
   ]
  },
  {
   "cell_type": "code",
   "execution_count": 66,
   "id": "2b31441d-4b8c-4ce4-ac79-673775407b45",
   "metadata": {},
   "outputs": [],
   "source": [
    "# Standard expansion factor of four\n",
    "ffwd_expansion_factor = 4\n",
    "\n",
    "# Initialize hidden layer and output layer\n",
    "# Use Kaiming init to intelligently scale the layer's random weights\n",
    "W1 = np.random.randn(n_embd, n_embd * ffwd_expansion_factor) * np.sqrt(2.0 / n_embd)\n",
    "W2 = np.random.randn(n_embd * ffwd_expansion_factor, n_embd) * np.sqrt(2.0 / n_embd)\n",
    " "
   ]
  },
  {
   "cell_type": "code",
   "execution_count": 98,
   "id": "6ce4f567-ea96-4ec9-9349-6fdcac190fd2",
   "metadata": {},
   "outputs": [],
   "source": [
    "class Model:\n",
    "    def __init__(self,embedding_matrix, unembedding_matrix, W1, W2):\n",
    "        self.embedding_matrix = embedding_matrix\n",
    "        self.unembedding_matrix = unembedding_matrix\n",
    "        self.W1 = W1\n",
    "        self.W2 = W2\n",
    "\n",
    "    def forward(self, x): \n",
    "\n",
    "        embd_x = self.embedding_matrix[x]\n",
    "\n",
    "        # Embedded data passes through the hidden layer of the FFN\n",
    "        hidden = embd_x @ self.W1\n",
    "\n",
    "        hidden_activated = np.maximum(0, hidden)\n",
    "\n",
    "        proccessed_vector = hidden_activated @ self.W2 \n",
    "\n",
    "        logits = proccessed_vector @ self.unembedding_matrix\n",
    "        \n",
    "        return logits\n",
    "\n",
    "    def pred (self, x):\n",
    "\n",
    "        logits = self.forward(x)\n",
    "\n",
    "        ## Apply softmax function to logits\n",
    "        raw_preds = np.exp(logits)/sum(np.exp(logits))\n",
    "\n",
    "        for raw_pred in raw_p\n",
    "        return preds\n",
    "\n",
    "        \n",
    "\n"
   ]
  },
  {
   "cell_type": "code",
   "execution_count": 99,
   "id": "90356084-272e-4058-b6c5-b537cf7f8158",
   "metadata": {},
   "outputs": [
    {
     "name": "stderr",
     "output_type": "stream",
     "text": [
      "/var/folders/8k/dg_kyxnn5wn4nbhpwfq40c2r0000gn/T/ipykernel_2199/2692358753.py:13: RuntimeWarning: divide by zero encountered in matmul\n",
      "  hidden = embd_x @ self.W1\n",
      "/var/folders/8k/dg_kyxnn5wn4nbhpwfq40c2r0000gn/T/ipykernel_2199/2692358753.py:13: RuntimeWarning: overflow encountered in matmul\n",
      "  hidden = embd_x @ self.W1\n",
      "/var/folders/8k/dg_kyxnn5wn4nbhpwfq40c2r0000gn/T/ipykernel_2199/2692358753.py:13: RuntimeWarning: invalid value encountered in matmul\n",
      "  hidden = embd_x @ self.W1\n",
      "/var/folders/8k/dg_kyxnn5wn4nbhpwfq40c2r0000gn/T/ipykernel_2199/2692358753.py:17: RuntimeWarning: divide by zero encountered in matmul\n",
      "  proccessed_vector = hidden_activated @ self.W2\n",
      "/var/folders/8k/dg_kyxnn5wn4nbhpwfq40c2r0000gn/T/ipykernel_2199/2692358753.py:17: RuntimeWarning: overflow encountered in matmul\n",
      "  proccessed_vector = hidden_activated @ self.W2\n",
      "/var/folders/8k/dg_kyxnn5wn4nbhpwfq40c2r0000gn/T/ipykernel_2199/2692358753.py:17: RuntimeWarning: invalid value encountered in matmul\n",
      "  proccessed_vector = hidden_activated @ self.W2\n",
      "/var/folders/8k/dg_kyxnn5wn4nbhpwfq40c2r0000gn/T/ipykernel_2199/2692358753.py:19: RuntimeWarning: divide by zero encountered in matmul\n",
      "  logits = proccessed_vector @ self.unembedding_matrix\n",
      "/var/folders/8k/dg_kyxnn5wn4nbhpwfq40c2r0000gn/T/ipykernel_2199/2692358753.py:19: RuntimeWarning: overflow encountered in matmul\n",
      "  logits = proccessed_vector @ self.unembedding_matrix\n",
      "/var/folders/8k/dg_kyxnn5wn4nbhpwfq40c2r0000gn/T/ipykernel_2199/2692358753.py:19: RuntimeWarning: invalid value encountered in matmul\n",
      "  logits = proccessed_vector @ self.unembedding_matrix\n"
     ]
    },
    {
     "data": {
      "text/plain": [
       "array([0.01127122, 0.01630949, 0.00478536, 0.00230053, 0.01351144,\n",
       "       0.00280443, 0.00238604, 0.00534557, 0.01962162, 0.00356656,\n",
       "       0.01498834, 0.01069528, 0.00424754, 0.00972314, 0.00434368,\n",
       "       0.00255871, 0.0037598 , 0.00215204, 0.00324515, 0.01056294,\n",
       "       0.00565978, 0.00567192, 0.01222755, 0.01509636, 0.00657182,\n",
       "       0.00601406, 0.00695353, 0.00819106, 0.00687548, 0.01058072,\n",
       "       0.01509709, 0.00632052, 0.00446215, 0.00728464, 0.0039958 ,\n",
       "       0.00854346, 0.0057278 , 0.01019251, 0.00515066, 0.00310381,\n",
       "       0.0108806 , 0.00243746, 0.01186466, 0.00210834, 0.00548125,\n",
       "       0.00280361, 0.00414623, 0.01379749, 0.00521395, 0.00459589,\n",
       "       0.01174118, 0.00838062, 0.00195338, 0.00595527, 0.01715315,\n",
       "       0.00272482, 0.00555851, 0.00251527, 0.00632296, 0.00458198,\n",
       "       0.00634493, 0.0065723 , 0.01071255, 0.00317943, 0.00535596,\n",
       "       0.00255548, 0.00169132, 0.00332029, 0.00601374, 0.00947301,\n",
       "       0.01330134, 0.00704183, 0.01384697, 0.00985577, 0.00982261,\n",
       "       0.00681599, 0.00870138, 0.00659738, 0.00765445, 0.00690496,\n",
       "       0.00590777, 0.0108338 , 0.00530481, 0.00400443, 0.00528662,\n",
       "       0.00610085, 0.00426535, 0.00412277, 0.00881821, 0.01332885,\n",
       "       0.00681537, 0.00539452, 0.00418123, 0.0248163 , 0.01130363,\n",
       "       0.00246298, 0.00279984, 0.00955871, 0.00416469, 0.01445721,\n",
       "       0.00453951, 0.00801216, 0.00901367, 0.00729795, 0.00371936,\n",
       "       0.00935005, 0.00655032, 0.00134916, 0.00671455, 0.00949796,\n",
       "       0.00416454, 0.01378857, 0.01093291, 0.00456631, 0.01051143,\n",
       "       0.00253947, 0.0132591 , 0.00428902, 0.01650129, 0.01729088,\n",
       "       0.00505387, 0.00793102, 0.00644413, 0.0067672 , 0.03047712,\n",
       "       0.02374539, 0.00432981, 0.00446225, 0.00084108, 0.00455615,\n",
       "       0.00969795])"
      ]
     },
     "execution_count": 99,
     "metadata": {},
     "output_type": "execute_result"
    }
   ],
   "source": [
    "model = Model(embedding_matrix, unembedding_matrix, W1, W2)\n",
    "model.pred(stoi['d'])\n"
   ]
  }
 ],
 "metadata": {
  "kernelspec": {
   "display_name": "IPython",
   "language": "python",
   "name": "ipython_env"
  },
  "language_info": {
   "codemirror_mode": {
    "name": "ipython",
    "version": 3
   },
   "file_extension": ".py",
   "mimetype": "text/x-python",
   "name": "python",
   "nbconvert_exporter": "python",
   "pygments_lexer": "ipython3",
   "version": "3.13.3"
  }
 },
 "nbformat": 4,
 "nbformat_minor": 5
}
